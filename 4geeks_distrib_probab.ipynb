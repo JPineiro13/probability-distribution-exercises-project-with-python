{
  "nbformat": 4,
  "nbformat_minor": 0,
  "metadata": {
    "colab": {
      "provenance": [],
      "authorship_tag": "ABX9TyOmhpsTN9nNObXMweGRBGPl",
      "include_colab_link": true
    },
    "kernelspec": {
      "name": "python3",
      "display_name": "Python 3"
    },
    "language_info": {
      "name": "python"
    }
  },
  "cells": [
    {
      "cell_type": "markdown",
      "metadata": {
        "id": "view-in-github",
        "colab_type": "text"
      },
      "source": [
        "<a href=\"https://colab.research.google.com/github/JPineiro13/probability-distribution-exercises-project-with-python/blob/main/4geeks_distrib_probab.ipynb\" target=\"_parent\"><img src=\"https://colab.research.google.com/assets/colab-badge.svg\" alt=\"Open In Colab\"/></a>"
      ]
    },
    {
      "cell_type": "markdown",
      "source": [
        "Voy a usar este cuadro de texto para explicar lo que vaya entendiendo del código de debajo."
      ],
      "metadata": {
        "id": "IE6rS9mxlgAm"
      }
    },
    {
      "cell_type": "code",
      "execution_count": null,
      "metadata": {
        "id": "_P_gfrA0jeGv"
      },
      "outputs": [],
      "source": [
        "from scipy.stats import binom\n",
        "\n",
        "# Definir todas las funciones de probabilidad relacionadas con esta distribución.\n",
        "\n",
        "def dbinom(x, size, prob = 0.5):\n",
        "    \"\"\"\n",
        "    Calcula la estimación puntual de la distribución binomial.\n",
        "    \"\"\"\n",
        "    result = binom.pmf(k = x, n = size, p = prob, loc = 0)\n",
        "\n",
        "    return result\n",
        "\n",
        "def pbinom(q, size, prob = 0.5):\n",
        "    \"\"\"\n",
        "    Calcula el acumulado de la distribución binomial.\n",
        "    \"\"\"\n",
        "    result = binom.cdf(k = q, n = size, p = prob, loc = 0)\n",
        "\n",
        "    return result\n",
        "\n",
        "def qbinom(p, size, prob = 0.5):\n",
        "    \"\"\"\n",
        "    Calcula la función cuantil a partir de la distribución binomial.\n",
        "    \"\"\"\n",
        "    result = binom.ppf(q = p, n = size, p = prob, loc = 0)\n",
        "\n",
        "    return result\n",
        "\n",
        "def rbinom(n, size, prob = 0.5):\n",
        "    \"\"\"\n",
        "    Genera variables aleatorias a partir de la distribución binomial.\n",
        "    \"\"\"\n",
        "    result = binom.rvs(n = size, p = prob, size = n)\n",
        "\n",
        "    return result"
      ]
    },
    {
      "cell_type": "code",
      "source": [
        "# Distribución binomial(10, 0.2), dónde n = 10 es el número de ensayos y p = 0.2 es la probabilidad de éxito en un solo ensayo\n",
        "import numpy as np\n",
        "\n",
        "np.random.seed(42)\n",
        "\n",
        "print(f\"Probability that a Binomial(10, 0.2) takes the value 2: {dbinom(2, size = 10, prob = 0.2)}\")\n",
        "print(f\"Probability that a Binomial(10, 0.2) will take a value less than 2: {pbinom(2, size = 10, prob = 0.2)}\")\n",
        "print(f\"Which value of a Binomial(10, 0.2) has a cumulative probability of 0.9? {qbinom(0.9, size = 10, prob = 0.2)}\")\n",
        "print(f\"Generate 2000 random values from a Binomial(10, 0.2) distribution: {rbinom(2000, size = 10, prob = 0.2)}\")"
      ],
      "metadata": {
        "id": "2_2tsrxrnpg8"
      },
      "execution_count": null,
      "outputs": []
    },
    {
      "cell_type": "code",
      "source": [
        "import matplotlib.pyplot as plt\n",
        "\n",
        "np.random.seed(42)\n",
        "\n",
        "size = 10\n",
        "prob = 0.2\n",
        "data = rbinom(2000, size = 10, prob = 0.2)\n",
        "\n",
        "pmf = dbinom(data, size = size, prob = prob)\n",
        "cdf = pbinom(data, size = size, prob = prob)\n",
        "ppf = qbinom(data, size = size, prob = prob)\n",
        "\n",
        "fig, axis = plt.subplots(3, 1, figsize = (5, 7))\n",
        "\n",
        "axis[0].stem(data, pmf, \"r-\")\n",
        "axis[1].stem(data, cdf, \"b-\")\n",
        "axis[2].stem(data, ppf, \"g-\")\n",
        "\n",
        "# Adjust the layout\n",
        "plt.tight_layout()\n",
        "\n",
        "# Show the plot\n",
        "plt.show()"
      ],
      "metadata": {
        "id": "QzZlNCa4oC1M"
      },
      "execution_count": null,
      "outputs": []
    },
    {
      "cell_type": "markdown",
      "source": [
        "Ahora nos piden que reescribamos estas mismas funciones pero para la distribución normal y para la uniforme"
      ],
      "metadata": {
        "id": "HdsxwLMdqQbJ"
      }
    },
    {
      "cell_type": "code",
      "source": [
        "from scipy.stats import norm\n",
        "\n",
        "#Aquí se mantiene la x, pero luego size cambia por mu (donde queremos que esté el centro)\n",
        "#El útlimo parámetro es sigma, que se refiere a lo dispersos que están los datos entre sí\n",
        "def distr_norm(x, mu=0, sigma=1):\n",
        "\n",
        "    resultado = norm.pdf(x, loc=mu, scale=sigma)\n",
        "    return resultado\n",
        "\n",
        "#Igual pero con la acumulada. Usamos q en lugar de x\n",
        "def acum_norm(q, mu=0, sigma=1):\n",
        "\n",
        "    resultado = norm.cdf(q, loc=mu, scale=sigma)\n",
        "    return resultado\n",
        "\n",
        "# Ahora función cuartil\n",
        "def cuantil_norm(p, mu=0, sigma=1):\n",
        "    resultado = norm.ppf(p, loc=mu, scale=sigma)\n",
        "    return resultado\n",
        "\n",
        "# Generar numeros aleatorios con distr norm\n",
        "def aleatorio_norm(n, mu=0, sigma=1):\n",
        "\n",
        "    resultado = norm.rvs(loc=mu, scale=sigma, size=n)\n",
        "    return resultado\n"
      ],
      "metadata": {
        "id": "DR9LQi3Tqd4t"
      },
      "execution_count": null,
      "outputs": []
    },
    {
      "cell_type": "code",
      "source": [
        "from scipy.stats import uniform\n",
        "\n",
        "# Densidad de probabilidad para la distribución uniforme. Esta sería para un punto\n",
        "def densidad_distr_unif(x, a=0, b=1):\n",
        "\n",
        "    resultado = uniform.pdf(x, loc=a, scale=b-a)\n",
        "    return resultado\n",
        "\n",
        "#La distribución acumulada\n",
        "def acum_unif(q, a=0, b=1):\n",
        "\n",
        "    resultado = uniform.cdf(q, loc=a, scale=b-a)\n",
        "    return resultado\n",
        "\n",
        "# Función cuantil para la distribución uniforme\n",
        "def cuantil_unif(p, a=0, b=1):\n",
        "\n",
        "    resultado = uniform.ppf(p, loc=a, scale=b-a)\n",
        "    return resultado\n",
        "\n",
        "# Generación de valores aleatorios de una distribución uniforme\n",
        "def aleatorio_unif(n, a=0, b=1):\n",
        "\n",
        "    resultado = uniform.rvs(loc=a, scale=b-a, size=n)\n",
        "    return resultado\n"
      ],
      "metadata": {
        "id": "aAOmiX23gBO2"
      },
      "execution_count": null,
      "outputs": []
    }
  ]
}