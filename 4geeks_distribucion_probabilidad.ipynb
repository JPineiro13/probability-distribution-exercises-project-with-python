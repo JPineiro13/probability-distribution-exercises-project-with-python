{
  "nbformat": 4,
  "nbformat_minor": 0,
  "metadata": {
    "colab": {
      "provenance": [],
      "authorship_tag": "ABX9TyMpRls5o9rs5YT1iJvchdy+",
      "include_colab_link": true
    },
    "kernelspec": {
      "name": "python3",
      "display_name": "Python 3"
    },
    "language_info": {
      "name": "python"
    }
  },
  "cells": [
    {
      "cell_type": "markdown",
      "metadata": {
        "id": "view-in-github",
        "colab_type": "text"
      },
      "source": [
        "<a href=\"https://colab.research.google.com/github/JPineiro13/probability-distribution-exercises-project-with-python/blob/main/4geeks_distribucion_probabilidad.ipynb\" target=\"_parent\"><img src=\"https://colab.research.google.com/assets/colab-badge.svg\" alt=\"Open In Colab\"/></a>"
      ]
    },
    {
      "cell_type": "code",
      "execution_count": null,
      "metadata": {
        "id": "Fb2hjIRaiimk",
        "colab": {
          "base_uri": "https://localhost:8080/"
        },
        "outputId": "d45b2657-88df-4827-f301-6758c728bd37"
      },
      "outputs": [
        {
          "output_type": "stream",
          "name": "stdout",
          "text": [
            "Probabilidad de que una normal(0, 1) tome el valor 2: 0.05399096651318806\n",
            "Probabilidad de que una normal(0, 1) tome un valor menor a 2: 0.9772498680518208\n",
            "¿Cuál es el valor de una normal(0, 1) con una probabilidad acumulativa de 0.9? 1.2815515655446004\n",
            "Generar 2000 valores aleatorios de una normal(0, 1): [-0.25310767  1.73625405  0.3326644  ...  1.4587731   0.57186395\n",
            " -0.37301047]\n"
          ]
        }
      ],
      "source": [
        "#Ej 1 Parte 1 -> Normal\n",
        "\n",
        "from scipy.stats import norm\n",
        "\n",
        "def densidad_normal(x, media=0, desv_est=1):\n",
        "\n",
        "    resultado = norm.pdf(x, loc=media, scale=desv_est)\n",
        "\n",
        "    return resultado\n",
        "\n",
        "def prob_acum_normal(q, media=0, desv_est=1):\n",
        "\n",
        "    resultado = norm.cdf(q, loc=media, scale=desv_est)\n",
        "\n",
        "    return resultado\n",
        "\n",
        "def cuantil_normal(p, media=0, desv_est=1):\n",
        "\n",
        "    resultado = norm.ppf(p, loc=media, scale=desv_est)\n",
        "\n",
        "    return resultado\n",
        "\n",
        "def generar_valor_aleatorio_normal(n, media=0, desv_est=1):\n",
        "\n",
        "    resultado = norm.rvs(loc=media, scale=desv_est, size=n)\n",
        "\n",
        "    return resultado\n",
        "\n",
        "\n",
        "print(f\"Probabilidad de que una normal(0, 1) tome el valor 2: {densidad_normal(2)}\")\n",
        "print(f\"Probabilidad de que una normal(0, 1) tome un valor menor a 2: {prob_acum_normal(2)}\")\n",
        "print(f\"¿Cuál es el valor de una normal(0, 1) con una probabilidad acumulativa de 0.9? {cuantil_normal(0.9)}\")\n",
        "print(f\"Generar 2000 valores aleatorios de una normal(0, 1): {generar_valor_aleatorio_normal(2000)}\")\n"
      ]
    },
    {
      "cell_type": "code",
      "source": [
        "#Ej 1 Parte 2 -> Uniforme\n",
        "\n",
        "from scipy.stats import uniform\n",
        "\n",
        "def densidad_uniforme(x, minimo=0, maximo=1):\n",
        "\n",
        "    resultado = uniform.pdf(x, loc=minimo, scale=(maximo - minimo))\n",
        "\n",
        "    return resultado\n",
        "\n",
        "def prob_acum_uniforme(q, minimo=0, maximo=1):\n",
        "\n",
        "    resultado = uniform.cdf(q, loc=minimo, scale=(maximo - minimo))\n",
        "\n",
        "    return resultado\n",
        "\n",
        "def cuantil_uniforme(p, minimo=0, maximo=1):\n",
        "\n",
        "    resultado = uniform.ppf(p, loc=minimo, scale=(maximo - minimo))\n",
        "\n",
        "    return resultado\n",
        "\n",
        "def generar_uniforme(n, minimo=0, maximo=1):\n",
        "\n",
        "    resultado = uniform.rvs(loc=minimo, scale=(maximo - minimo), size=n)\n",
        "\n",
        "    return resultado\n",
        "\n",
        "\n",
        "print(f\"Probabilidad de que una Uniforme(0, 1) tome el valor 0.5: {densidad_uniforme(0.5)}\")\n",
        "print(f\"Probabilidad de que una Uniforme(0, 1) tome un valor menor a 0.5: {prob_acum_uniforme(0.5)}\")\n",
        "print(f\"¿Cuál es el valor de una Uniforme(0, 1) con una probabilidad acumulativa de 0.9? {cuantil_uniforme(0.9)}\")\n",
        "print(f\"Generar 2000 valores aleatorios de una Uniforme(0, 1): {generar_uniforme(2000)}\")"
      ],
      "metadata": {
        "colab": {
          "base_uri": "https://localhost:8080/"
        },
        "id": "l3PeCj9UbULx",
        "outputId": "59812761-6899-422e-85f4-2a249cc5a08f"
      },
      "execution_count": null,
      "outputs": [
        {
          "output_type": "stream",
          "name": "stdout",
          "text": [
            "Probabilidad de que una Uniforme(0, 1) tome el valor 0.5: 1.0\n",
            "Probabilidad de que una Uniforme(0, 1) tome un valor menor a 0.5: 0.5\n",
            "¿Cuál es el valor de una Uniforme(0, 1) con una probabilidad acumulativa de 0.9? 0.9\n",
            "Generar 2000 valores aleatorios de una Uniforme(0, 1): [0.64213117 0.04871775 0.98268933 ... 0.56810866 0.13326244 0.77639439]\n"
          ]
        }
      ]
    }
  ]
}